{
 "cells": [
  {
   "cell_type": "code",
   "execution_count": null,
   "id": "c0ce0f9a-4b9b-4c29-864d-36b383c06ee0",
   "metadata": {},
   "outputs": [],
   "source": []
  }
 ],
 "metadata": {
  "kernelspec": {
   "display_name": "",
   "name": ""
  },
  "language_info": {
   "name": ""
  }
 },
 "nbformat": 4,
 "nbformat_minor": 5
}
